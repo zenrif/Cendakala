{
 "cells": [
  {
   "cell_type": "code",
   "execution_count": 2,
   "metadata": {},
   "outputs": [],
   "source": [
    "import json\n",
    "import pandas as pd\n",
    "import string\n",
    "import random\n",
    "from Sastrawi.Stemmer.StemmerFactory import StemmerFactory\n",
    "from thefuzz import fuzz, process"
   ]
  },
  {
   "cell_type": "code",
   "execution_count": 3,
   "metadata": {},
   "outputs": [],
   "source": [
    "# inisiasi sastrawi Bahasa Indonesia\n",
    "factory = StemmerFactory()\n",
    "stemmer = factory.create_stemmer()"
   ]
  },
  {
   "cell_type": "code",
   "execution_count": 4,
   "metadata": {},
   "outputs": [],
   "source": [
    "excel_file_path = 'dataset_kuesioner.xlsx'\n",
    "df = pd.read_excel(excel_file_path)"
   ]
  },
  {
   "cell_type": "code",
   "execution_count": 5,
   "metadata": {},
   "outputs": [],
   "source": [
    "id = []\n",
    "for i in range(len(df)):\n",
    "    code_length = 16\n",
    "    unit_id = ''.join(random.choices(string.ascii_letters + string.digits, k=code_length))\n",
    "    id.append(unit_id)\n",
    "\n",
    "df['form_id'] = id"
   ]
  },
  {
   "cell_type": "code",
   "execution_count": 6,
   "metadata": {},
   "outputs": [],
   "source": [
    "json_data = df.to_json()\n",
    "with open('title.json', 'w') as json_file:\n",
    "    json_file.write(json_data)"
   ]
  },
  {
   "cell_type": "code",
   "execution_count": 7,
   "metadata": {},
   "outputs": [],
   "source": [
    "with open('title.json', 'r') as json_file:\n",
    "    json_data = json.load(json_file)"
   ]
  },
  {
   "cell_type": "code",
   "execution_count": 8,
   "metadata": {},
   "outputs": [],
   "source": [
    "with open('indonesian-wordlist.lst', 'r') as file:\n",
    "    lines = file.readlines()\n",
    "    indonesian_word_list = [line.strip() for line in lines]"
   ]
  },
  {
   "cell_type": "code",
   "execution_count": 9,
   "metadata": {},
   "outputs": [],
   "source": [
    "with open('combined_stop_words.txt') as file:\n",
    "    stop_words = set(file.read().split())"
   ]
  },
  {
   "cell_type": "code",
   "execution_count": 10,
   "metadata": {},
   "outputs": [],
   "source": [
    "def remove_stop_words(text):\n",
    "    words = text.split()\n",
    "    filtered_words = []\n",
    "    for word in words:\n",
    "        if word.lower() not in stop_words:\n",
    "            filtered_words.append(word)\n",
    "    return ' '.join(filtered_words)"
   ]
  },
  {
   "cell_type": "code",
   "execution_count": 11,
   "metadata": {},
   "outputs": [],
   "source": [
    "def handle_typos(text):\n",
    "    words = text.split()\n",
    "    handled_typos = []\n",
    "    for word in words:\n",
    "        if word in indonesian_word_list:\n",
    "            handled_typos.append(word)\n",
    "        else:\n",
    "            ratios = process.extract(word, indonesian_word_list, scorer=fuzz.ratio)\n",
    "            highest_ratio = max(ratios, key=lambda x: x[1])\n",
    "            highest_ratio_word = highest_ratio[0]\n",
    "            handled_typos.append(highest_ratio_word)\n",
    "\n",
    "    return ' '.join(handled_typos)\n"
   ]
  },
  {
   "cell_type": "code",
   "execution_count": 12,
   "metadata": {},
   "outputs": [],
   "source": [
    "def preprocess_text_query(text):\n",
    "\n",
    "    text = str(text)\n",
    "    text = text.lower()\n",
    "    text = text.translate(str.maketrans(\n",
    "        dict.fromkeys(string.punctuation, ' ')))\n",
    "\n",
    "    text = handle_typos(text)\n",
    "    text = stemmer.stem(text)\n",
    "\n",
    "    text = remove_stop_words(text)\n",
    "\n",
    "    return text"
   ]
  },
  {
   "cell_type": "code",
   "execution_count": 13,
   "metadata": {},
   "outputs": [],
   "source": [
    "def preprocess_data(text):\n",
    "\n",
    "    text = str(text)\n",
    "    text = text.lower()\n",
    "    text = text.translate(str.maketrans(\n",
    "        dict.fromkeys(string.punctuation, ' ')))\n",
    "\n",
    "    text = stemmer.stem(text)\n",
    "    text = remove_stop_words(text)\n",
    "\n",
    "    return text"
   ]
  },
  {
   "cell_type": "code",
   "execution_count": 17,
   "metadata": {},
   "outputs": [],
   "source": [
    "def search(query):\n",
    "    title = list(json_data[\"judul\"].values())\n",
    "    form_id = list(json_data[\"form_id\"].values())\n",
    "    results = []\n",
    "\n",
    "    query_preprocessed = preprocess_text_query(query)\n",
    "    for i in range(len(title)):\n",
    "        title_preprocessed = preprocess_data(title[i])\n",
    "        if query_preprocessed in title_preprocessed:\n",
    "            hasil = {\n",
    "                \"id\":  form_id[i],\n",
    "                \"title\": title[i]\n",
    "            }\n",
    "            results.append(json.dumps(hasil))\n",
    "        i += 1\n",
    "    \n",
    "    query_preprocessed = preprocess_text_query(query).split()\n",
    "    for word in query_preprocessed:\n",
    "        for i in range(len(title)):\n",
    "            title_preprocessed = preprocess_data(title[i])\n",
    "            if word in title_preprocessed:\n",
    "                if title not in results:\n",
    "                    hasil = {\n",
    "                        \"id\":  form_id[i],\n",
    "                        \"title\": title[i]\n",
    "                    }\n",
    "                    results.append(json.dumps(hasil))\n",
    "        i += 1\n",
    "\n",
    "    return results"
   ]
  },
  {
   "cell_type": "code",
   "execution_count": 18,
   "metadata": {},
   "outputs": [
    {
     "name": "stdout",
     "output_type": "stream",
     "text": [
      "['{\"id\": \"E87qYCXkCYQ7EK0M\", \"title\": \"Analisis Keuangan Rumah Tangga terkait Pelayanan Kesehatan: Dampak dan Strategi Pengelolaan di Tengah Pandemi COVID-19\"}', '{\"id\": \"sjdnlvnjqjbxEbwk\", \"title\": \"Evaluasi Dampak Ekonomi Beban Penyakit terhadap Keuangan Rumah Tangga: Studi Kasus pada Keluarga dengan Anggota yang Menderita Penyakit Kronis\"}', '{\"id\": \"R9LnuURgFmvAafqW\", \"title\": \"Dampak Pariwisata Medis terhadap Infrastruktur Kesehatan Lokal: Studi Kasus pada Destinasi Pariwisata Medis di Indonesia\"}', '{\"id\": \"cAxpCRe0iKbkA9Kn\", \"title\": \"Dampak Program Kesehatan Masyarakat dalam Meningkatkan Kesejahteraan Sosial: Studi Kasus pada Program Pemberdayaan Masyarakat di Daerah Terpencil\"}', '{\"id\": \"xUmuPak42YWhJOTj\", \"title\": \"Kesadaran Masyarakat tentang Dampak Lingkungan terhadap Kesehatan: Survei pada Penduduk di Wilayah Konservasi Alam\"}', '{\"id\": \"PVGGVUuxJDLMAPRl\", \"title\": \"Penggunaan Aplikasi Kesehatan Mobile dalam Meningkatkan Perilaku Hidup Sehat: Penilaian Penggunaan dan Dampak pada Masyarakat\"}', '{\"id\": \"wK4hMo9ktUDIbtYE\", \"title\": \"Evaluasi Dampak Program Olahraga dan Rekreasi terhadap Penurunan Risiko Penyakit Kronis: Penilaian Efektivitas pada Peserta Program di Daerah Yogyakarta\"}', '{\"id\": \"DCD7LszgPODqIuUG\", \"title\": \"Evaluasi Program Pemberdayaan Masyarakat melalui Seni dalam Konteks Kesehatan Mental: Penilaian Dampak dan Partisipasi Peserta\"}', '{\"id\": \"0WXicjUlTP4ykirc\", \"title\": \"Dampak Spiritualitas dan Kepercayaan pada Kesehatan dan Kesembuhan Pasien: Perspektif dan Pengalaman Pasien\"}', '{\"id\": \"M4Kt4zdynl2NARWt\", \"title\": \"Dampak Lingkungan Kerja terhadap Kesehatan Karyawan dalam Industri Kesehatan: Studi Kasus pada Rumah Sakit di Wilayah Palembang\"}', '{\"id\": \"tkUAztxiZOkUD8W5\", \"title\": \"Persepsi Masyarakat tentang Kebijakan Kesehatan dan Dampaknya pada Kualitas Pelayanan Kesehatan\"}', '{\"id\": \"OnUvbVGzIEBACBqh\", \"title\": \"Partisipasi Masyarakat dalam Pengambilan Keputusan Kebijakan Kesehatan: Tinjauan tentang Peran dan Dampaknya pada Peningkatan Kesehatan Masyarakat\"}', '{\"id\": \"PujeZ8xZ9HTpQEwO\", \"title\": \"Dampak Transportasi dan Logistik terhadap Kesehatan Masyarakat: Survei tentang Penggunaan Moda Transportasi dan Kondisi Kesehatan\"}', '{\"id\": \"QFBKpDZSjk842NGg\", \"title\": \"Evaluasi Kesehatan Petani dan Nelayan: Tinjauan tentang Dampak Kondisi Kerja dan Lingkungan Pertanian dan Perikanan terhadap Kesehatan Masyarakat\"}', '{\"id\": \"dZyLeQFi3vBwiaRE\", \"title\": \"Pengaruh Penggunaan Pestisida dan Bahan Kimia pada Kesehatan Petani dan Nelayan: Studi Kasus tentang Dampak Paparan dan Kebijakan Pengendalian\"}', '{\"id\": \"jWmyDfFKOuclU93W\", \"title\": \"Dampak Perubahan Iklim terhadap Kesehatan Masyarakat dari Sektor Pertanian dan Perikanan: Tinjauan tentang Risiko dan Adaptasi\"}', '{\"id\": \"Lhv4fN4Nxq2FHKxj\", \"title\": \"Evaluasi Program Pendidikan Kesehatan di Institusi Pendidikan: Tinjauan terhadap Efektivitas dan Dampak pada Pengetahuan dan Perilaku Hidup Sehat Siswa\"}', '{\"id\": \"p04M6s9qqULVyc28\", \"title\": \"Dampak Keterlibatan Orang Tua dalam Pendidikan Anak: Tinjauan tentang Partisipasi dan Dukungan Orang Tua dalam Proses Pembelajaran\"}', '{\"id\": \"5oCz3sPQCq4ZviDk\", \"title\": \"Tinjauan atas Implementasi Program Pendidikan Pariwisata di Sekolah: Penilaian Efektivitas dan Dampak pada Pengetahuan dan Minat Siswa terhadap Industri Pariwisata\"}', '{\"id\": \"7EEYUqeTSHQJn8Ef\", \"title\": \"Evaluasi Penggunaan Teknologi Informasi dan Komunikasi dalam Proses Pembelajaran: Persepsi Guru dan Siswa tentang Efektivitas dan Dampaknya pada Prestasi Akademik\"}', '{\"id\": \"Dpyy9ReDXe5nwSsw\", \"title\": \"Persepsi Siswa tentang Dampak Teknologi Informasi dan Komunikasi pada Proses Belajar-Mengajar: Tinjauan terhadap Keuntungan dan Tantangan dalam Penggunaan Teknologi dalam Pendidikan\"}', '{\"id\": \"Ejyo5XJ0sUMYWcFp\", \"title\": \"Tinjauan atas Implementasi Program Pendidikan Olahraga dan Rekreasi di Sekolah: Penilaian Efektivitas dan Dampak pada Kesehatan dan Keterampilan Motorik Siswa\"}', '{\"id\": \"soltk304Wr6SDBMY\", \"title\": \"Tinjauan atas Implementasi Program Pendidikan Seni dan Budaya di Sekolah: Penilaian Efektivitas dan Dampak pada Kreativitas dan Ekspresi Siswa\"}', '{\"id\": \"BjzXvfSJMFDd1SoZ\", \"title\": \"Tinjauan atas Implementasi Program Pendidikan Agama dan Kepercayaan di Sekolah: Penilaian Efektivitas dan Dampak pada Pemahaman dan Toleransi Antaragama Siswa\"}', '{\"id\": \"apmMR7D1tFtZVeH2\", \"title\": \"Tinjauan atas Implementasi Program Pendidikan Bisnis dan Industri di Sekolah: Penilaian Efektivitas dan Dampak pada Kesiapan Karier dan Pengembangan Kewirausahaan Siswa\"}', '{\"id\": \"8rtNO3arUuGbfRGc\", \"title\": \"Tinjauan atas Implementasi Program Pendidikan Politik dan Pemerintahan di Sekolah: Penilaian Efektivitas dan Dampak pada Kesadaran Politik dan Partisipasi Siswa\"}', '{\"id\": \"qQ96Jnx6sEgUpRwi\", \"title\": \"Dampak Sosial dan Hukum terhadap Penanganan Kasus Pelanggaran Hak Asasi Manusia dalam Masyarakat\"}', '{\"id\": \"vAXvBHbrrojg4AsH\", \"title\": \"Persepsi Masyarakat tentang Ketimpangan Ekonomi dan Dampaknya terhadap Kesenjangan Sosial\"}', '{\"id\": \"DgcSkxyBUpZWYvQn\", \"title\": \"Dampak Sosial dan Kemanusiaan Investasi dan Donasi dalam Konteks Keuangan\"}', '{\"id\": \"QTol3pRLSvjPVnZ3\", \"title\": \"Persepsi Masyarakat tentang Dampak Pariwisata terhadap Kesejahteraan Sosial dan Kemanusiaan di Destinasi Wisata\"}', '{\"id\": \"zjA91jpo7Y00ElyX\", \"title\": \"Dampak Pariwisata terhadap Kebudayaan dan Kehidupan Sosial Masyarakat Lokal di Destinasi Wisata\"}', '{\"id\": \"5NAo9TvtnoTFryXd\", \"title\": \"Dampak Program Sosial dan Kemanusiaan terhadap Peningkatan Kualitas Hidup Masyarakat\"}', '{\"id\": \"5ZqDcoe55EV0lFzJ\", \"title\": \"Pengetahuan Masyarakat tentang Perubahan Iklim dan Dampaknya terhadap Kehidupan Manusia dan Lingkungan\"}', '{\"id\": \"29sPEI3kQGZIkfdH\", \"title\": \"Pengaruh Kebijakan Kesehatan Terhadap Industri Makanan dan Minuman: Studi Kasus pada Efek Regulasi dan Respons Industri\"}', '{\"id\": \"tkUAztxiZOkUD8W5\", \"title\": \"Persepsi Masyarakat tentang Kebijakan Kesehatan dan Dampaknya pada Kualitas Pelayanan Kesehatan\"}', '{\"id\": \"1Uif3FLiUi4gnZhC\", \"title\": \"Evaluasi Program Kesehatan Masyarakat dalam Kaitannya dengan Kebijakan Politik dan Manajemen Pemerintahan\"}', '{\"id\": \"uE6ahuiwjGi6dyND\", \"title\": \"Pengaruh Struktur Pemerintahan dan Kebijakan Kesehatan terhadap Akses dan Kualitas Pelayanan Kesehatan: Perspektif Stakeholder\"}', '{\"id\": \"OnUvbVGzIEBACBqh\", \"title\": \"Partisipasi Masyarakat dalam Pengambilan Keputusan Kebijakan Kesehatan: Tinjauan tentang Peran dan Dampaknya pada Peningkatan Kesehatan Masyarakat\"}', '{\"id\": \"eChRxj0Wp6sbRlM5\", \"title\": \"Analisis Hubungan antara Kondisi Kesehatan Masyarakat dan Kinerja Pemerintah: Penilaian Kebijakan Kesehatan dan Efektivitas Penanganan Kesehatan\"}', '{\"id\": \"bzljorVxL4wOoZBN\", \"title\": \"Persepsi Pengguna Transportasi Umum tentang Fasilitas dan Kebijakan Kesehatan: Studi Kasus pada Penumpang Angkutan Umum\"}', '{\"id\": \"dZyLeQFi3vBwiaRE\", \"title\": \"Pengaruh Penggunaan Pestisida dan Bahan Kimia pada Kesehatan Petani dan Nelayan: Studi Kasus tentang Dampak Paparan dan Kebijakan Pengendalian\"}', '{\"id\": \"ZoxHY61uwcWwlCtz\", \"title\": \"Hubungan antara Gizi dan Kesehatan Masyarakat dengan Produksi Pertanian dan Perikanan: Analisis Keterkaitan dan Implikasi Kebijakan\"}', '{\"id\": \"7GOFswMKvk6ZsswU\", \"title\": \"Tinjauan atas Peran Pendidikan Keuangan dalam Mempersiapkan Siswa Mengelola Keuangan Pribadi dan Mengambil Keputusan Keuangan yang Bijaksana\"}', '{\"id\": \"EWMg4nHOc4lSKVRq\", \"title\": \"Persepsi Guru dan Siswa tentang Etika Penggunaan Teknologi Informasi dan Komunikasi di Sekolah: Tinjauan terhadap Kebijakan dan Kesadaran Etis\"}', '{\"id\": \"OXv4Tv7ZSQZtEr4U\", \"title\": \"Evaluasi Kurikulum Pendidikan Agama: Persepsi Guru dan Siswa tentang Relevansi dan Efektivitas Pembelajaran Agama dalam Konteks Kepercayaan dan Kebijakan Keagamaan\"}', '{\"id\": \"V9movhmmmcxUO6Bd\", \"title\": \"Tanggapan Masyarakat terhadap Kebijakan dan Tindakan Pemerintah dalam Menangani Isu Lingkungan dan Konservasi\"}']\n"
     ]
    }
   ],
   "source": [
    "input = \"dampak kebijakan\"\n",
    "hasil = search(input)"
   ]
  }
 ],
 "metadata": {
  "kernelspec": {
   "display_name": "skripsi",
   "language": "python",
   "name": "python3"
  },
  "language_info": {
   "codemirror_mode": {
    "name": "ipython",
    "version": 3
   },
   "file_extension": ".py",
   "mimetype": "text/x-python",
   "name": "python",
   "nbconvert_exporter": "python",
   "pygments_lexer": "ipython3",
   "version": "3.10.0"
  },
  "orig_nbformat": 4
 },
 "nbformat": 4,
 "nbformat_minor": 2
}
